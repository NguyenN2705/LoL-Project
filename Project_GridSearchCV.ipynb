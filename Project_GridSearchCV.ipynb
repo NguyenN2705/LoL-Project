{
 "cells": [
  {
   "cell_type": "code",
   "execution_count": 16,
   "id": "dd9e4b9c",
   "metadata": {},
   "outputs": [],
   "source": [
    "import numpy as np\n",
    "import pandas as pd\n",
    "import matplotlib.pyplot as plt\n",
    "from sklearn.preprocessing import StandardScaler\n",
    "from sklearn.model_selection import KFold, train_test_split, GridSearchCV\n",
    "from sklearn.metrics import accuracy_score, confusion_matrix, plot_confusion_matrix\n",
    "from sklearn.linear_model import LogisticRegression\n",
    "from sklearn.ensemble import RandomForestClassifier\n",
    "from sklearn.svm import LinearSVC, SVC\n",
    "from sklearn.calibration import calibration_curve, CalibratedClassifierCV\n",
    "from sklearn.dummy import DummyClassifier\n",
    "import joblib"
   ]
  },
  {
   "cell_type": "code",
   "execution_count": 17,
   "id": "a955e09b",
   "metadata": {},
   "outputs": [
    {
     "data": {
      "text/html": [
       "<div>\n",
       "<style scoped>\n",
       "    .dataframe tbody tr th:only-of-type {\n",
       "        vertical-align: middle;\n",
       "    }\n",
       "\n",
       "    .dataframe tbody tr th {\n",
       "        vertical-align: top;\n",
       "    }\n",
       "\n",
       "    .dataframe thead th {\n",
       "        text-align: right;\n",
       "    }\n",
       "</style>\n",
       "<table border=\"1\" class=\"dataframe\">\n",
       "  <thead>\n",
       "    <tr style=\"text-align: right;\">\n",
       "      <th></th>\n",
       "      <th>game_id</th>\n",
       "      <th>winning_team</th>\n",
       "      <th>in_game_time</th>\n",
       "      <th>ally_top_level</th>\n",
       "      <th>ally_jgl_level</th>\n",
       "      <th>ally_mid_level</th>\n",
       "      <th>ally_bot_level</th>\n",
       "      <th>ally_sup_level</th>\n",
       "      <th>enemy_top_level</th>\n",
       "      <th>enemy_jgl_level</th>\n",
       "      <th>...</th>\n",
       "      <th>dragon_killed</th>\n",
       "      <th>dragon_lost</th>\n",
       "      <th>voidgrub_killed</th>\n",
       "      <th>voidgrub_lost</th>\n",
       "      <th>riftherald_killed</th>\n",
       "      <th>riftherald_lost</th>\n",
       "      <th>baron_killed</th>\n",
       "      <th>baron_lost</th>\n",
       "      <th>champion_killed</th>\n",
       "      <th>champion_death</th>\n",
       "    </tr>\n",
       "  </thead>\n",
       "  <tbody>\n",
       "    <tr>\n",
       "      <th>0</th>\n",
       "      <td>7358388756</td>\n",
       "      <td>0.0</td>\n",
       "      <td>10.003517</td>\n",
       "      <td>7.0</td>\n",
       "      <td>7.0</td>\n",
       "      <td>7.0</td>\n",
       "      <td>8.0</td>\n",
       "      <td>5.0</td>\n",
       "      <td>8.0</td>\n",
       "      <td>6.0</td>\n",
       "      <td>...</td>\n",
       "      <td>0</td>\n",
       "      <td>1</td>\n",
       "      <td>0</td>\n",
       "      <td>1</td>\n",
       "      <td>0</td>\n",
       "      <td>0</td>\n",
       "      <td>0</td>\n",
       "      <td>0</td>\n",
       "      <td>1</td>\n",
       "      <td>2</td>\n",
       "    </tr>\n",
       "    <tr>\n",
       "      <th>1</th>\n",
       "      <td>7358388756</td>\n",
       "      <td>0.0</td>\n",
       "      <td>13.004633</td>\n",
       "      <td>9.0</td>\n",
       "      <td>8.0</td>\n",
       "      <td>8.0</td>\n",
       "      <td>9.0</td>\n",
       "      <td>7.0</td>\n",
       "      <td>9.0</td>\n",
       "      <td>9.0</td>\n",
       "      <td>...</td>\n",
       "      <td>0</td>\n",
       "      <td>1</td>\n",
       "      <td>0</td>\n",
       "      <td>3</td>\n",
       "      <td>0</td>\n",
       "      <td>1</td>\n",
       "      <td>0</td>\n",
       "      <td>0</td>\n",
       "      <td>1</td>\n",
       "      <td>7</td>\n",
       "    </tr>\n",
       "    <tr>\n",
       "      <th>2</th>\n",
       "      <td>7358388756</td>\n",
       "      <td>0.0</td>\n",
       "      <td>15.277683</td>\n",
       "      <td>10.0</td>\n",
       "      <td>9.0</td>\n",
       "      <td>9.0</td>\n",
       "      <td>10.0</td>\n",
       "      <td>7.0</td>\n",
       "      <td>11.0</td>\n",
       "      <td>10.0</td>\n",
       "      <td>...</td>\n",
       "      <td>0</td>\n",
       "      <td>1</td>\n",
       "      <td>0</td>\n",
       "      <td>6</td>\n",
       "      <td>0</td>\n",
       "      <td>1</td>\n",
       "      <td>0</td>\n",
       "      <td>0</td>\n",
       "      <td>5</td>\n",
       "      <td>17</td>\n",
       "    </tr>\n",
       "    <tr>\n",
       "      <th>3</th>\n",
       "      <td>7347700848</td>\n",
       "      <td>0.0</td>\n",
       "      <td>10.003133</td>\n",
       "      <td>8.0</td>\n",
       "      <td>7.0</td>\n",
       "      <td>9.0</td>\n",
       "      <td>7.0</td>\n",
       "      <td>5.0</td>\n",
       "      <td>7.0</td>\n",
       "      <td>7.0</td>\n",
       "      <td>...</td>\n",
       "      <td>0</td>\n",
       "      <td>0</td>\n",
       "      <td>0</td>\n",
       "      <td>3</td>\n",
       "      <td>0</td>\n",
       "      <td>0</td>\n",
       "      <td>0</td>\n",
       "      <td>0</td>\n",
       "      <td>2</td>\n",
       "      <td>2</td>\n",
       "    </tr>\n",
       "    <tr>\n",
       "      <th>4</th>\n",
       "      <td>7347700848</td>\n",
       "      <td>0.0</td>\n",
       "      <td>13.004267</td>\n",
       "      <td>11.0</td>\n",
       "      <td>8.0</td>\n",
       "      <td>10.0</td>\n",
       "      <td>8.0</td>\n",
       "      <td>6.0</td>\n",
       "      <td>8.0</td>\n",
       "      <td>8.0</td>\n",
       "      <td>...</td>\n",
       "      <td>0</td>\n",
       "      <td>1</td>\n",
       "      <td>0</td>\n",
       "      <td>3</td>\n",
       "      <td>1</td>\n",
       "      <td>0</td>\n",
       "      <td>0</td>\n",
       "      <td>0</td>\n",
       "      <td>3</td>\n",
       "      <td>4</td>\n",
       "    </tr>\n",
       "  </tbody>\n",
       "</table>\n",
       "<p>5 rows × 282 columns</p>\n",
       "</div>"
      ],
      "text/plain": [
       "      game_id  winning_team  in_game_time  ally_top_level  ally_jgl_level  \\\n",
       "0  7358388756           0.0     10.003517             7.0             7.0   \n",
       "1  7358388756           0.0     13.004633             9.0             8.0   \n",
       "2  7358388756           0.0     15.277683            10.0             9.0   \n",
       "3  7347700848           0.0     10.003133             8.0             7.0   \n",
       "4  7347700848           0.0     13.004267            11.0             8.0   \n",
       "\n",
       "   ally_mid_level  ally_bot_level  ally_sup_level  enemy_top_level  \\\n",
       "0             7.0             8.0             5.0              8.0   \n",
       "1             8.0             9.0             7.0              9.0   \n",
       "2             9.0            10.0             7.0             11.0   \n",
       "3             9.0             7.0             5.0              7.0   \n",
       "4            10.0             8.0             6.0              8.0   \n",
       "\n",
       "   enemy_jgl_level  ...  dragon_killed  dragon_lost  voidgrub_killed  \\\n",
       "0              6.0  ...              0            1                0   \n",
       "1              9.0  ...              0            1                0   \n",
       "2             10.0  ...              0            1                0   \n",
       "3              7.0  ...              0            0                0   \n",
       "4              8.0  ...              0            1                0   \n",
       "\n",
       "   voidgrub_lost  riftherald_killed  riftherald_lost  baron_killed  \\\n",
       "0              1                  0                0             0   \n",
       "1              3                  0                1             0   \n",
       "2              6                  0                1             0   \n",
       "3              3                  0                0             0   \n",
       "4              3                  1                0             0   \n",
       "\n",
       "   baron_lost  champion_killed  champion_death  \n",
       "0           0                1               2  \n",
       "1           0                1               7  \n",
       "2           0                5              17  \n",
       "3           0                2               2  \n",
       "4           0                3               4  \n",
       "\n",
       "[5 rows x 282 columns]"
      ]
     },
     "execution_count": 17,
     "metadata": {},
     "output_type": "execute_result"
    }
   ],
   "source": [
    "# Load the dataset\n",
    "data = pd.read_csv(r\"revisedLoL_matchdata.csv\")\n",
    "\n",
    "# Drop an 'index' column that is there by my data collection mistake\n",
    "data = data.drop(['index'],axis=1)\n",
    "\n",
    "# Default red team Id = 200. Change the red team ID to 0 and blue to 1. \n",
    "data['winning_team'] = data['winning_team'].replace([200,100],[0,1])\n",
    "data.head(5)"
   ]
  },
  {
   "cell_type": "code",
   "execution_count": 18,
   "id": "ecab0603",
   "metadata": {},
   "outputs": [],
   "source": [
    "# Feature and Response\n",
    "X = data.drop(['game_id','winning_team'],axis=1)\n",
    "Y = data['winning_team']"
   ]
  },
  {
   "cell_type": "code",
   "execution_count": 19,
   "id": "e4a5aa8b",
   "metadata": {},
   "outputs": [],
   "source": [
    "# K-Fold object\n",
    "k_folds = KFold(n_splits=5, shuffle = True, random_state = 123)"
   ]
  },
  {
   "cell_type": "code",
   "execution_count": 20,
   "id": "3cbf9e5c",
   "metadata": {},
   "outputs": [],
   "source": [
    "# Split the training data into train/validation/test set. The split is 60/20/20\n",
    "# Validation set used to calibrate the data\n",
    "x_train, x_test, y_train, y_test = train_test_split(X, Y, test_size = 0.2, shuffle = True, random_state = 123)\n",
    "x_train, x_val, y_train, y_val = train_test_split(x_train,y_train, test_size = 0.25, shuffle = True, random_state = 789)"
   ]
  },
  {
   "cell_type": "code",
   "execution_count": 21,
   "id": "ac9693ac",
   "metadata": {},
   "outputs": [],
   "source": [
    "scaler = StandardScaler().fit(x_train)"
   ]
  },
  {
   "cell_type": "markdown",
   "id": "26645ccc",
   "metadata": {},
   "source": [
    "## Logistic regression"
   ]
  },
  {
   "cell_type": "code",
   "execution_count": 25,
   "id": "1b30336f",
   "metadata": {},
   "outputs": [],
   "source": [
    "LR = GridSearchCV(LogisticRegression(), {'C': [1e-4,1e-3,1e-2,0.1,1,10,100]},\n",
    "                  cv = k_folds, scoring = 'accuracy', n_jobs = -1).fit(scaler.transform(x_train),y_train)"
   ]
  },
  {
   "cell_type": "code",
   "execution_count": 27,
   "id": "a360e36a",
   "metadata": {},
   "outputs": [
    {
     "data": {
      "text/plain": [
       "LogisticRegression(C=0.01)"
      ]
     },
     "execution_count": 27,
     "metadata": {},
     "output_type": "execute_result"
    }
   ],
   "source": [
    "LR.best_estimator_"
   ]
  },
  {
   "cell_type": "code",
   "execution_count": 32,
   "id": "a3afdd43",
   "metadata": {},
   "outputs": [
    {
     "data": {
      "text/plain": [
       "LogisticRegression(C=0.01)"
      ]
     },
     "execution_count": 32,
     "metadata": {},
     "output_type": "execute_result"
    }
   ],
   "source": [
    "LR = GridSearchCV(LogisticRegression(), {'C': np.arange(1,10)/100},\n",
    "                  cv = k_folds, scoring = 'accuracy', n_jobs = -1).fit(scaler.transform(x_train),y_train)\n",
    "LR.best_estimator_"
   ]
  },
  {
   "cell_type": "code",
   "execution_count": 39,
   "id": "b8c08d41",
   "metadata": {},
   "outputs": [
    {
     "data": {
      "text/plain": [
       "LogisticRegression(C=0.0144)"
      ]
     },
     "execution_count": 39,
     "metadata": {},
     "output_type": "execute_result"
    }
   ],
   "source": [
    "LR = GridSearchCV(LogisticRegression(), {'C': np.arange(100,200)/10000},\n",
    "                  cv = k_folds, scoring = 'accuracy', n_jobs = -1).fit(scaler.transform(x_train),y_train)\n",
    "LR.best_estimator_"
   ]
  },
  {
   "cell_type": "markdown",
   "id": "d5fcf18f",
   "metadata": {},
   "source": [
    "## SVM"
   ]
  },
  {
   "cell_type": "code",
   "execution_count": 40,
   "id": "45701aec",
   "metadata": {},
   "outputs": [
    {
     "data": {
      "text/plain": [
       "LinearSVC(C=0.001)"
      ]
     },
     "execution_count": 40,
     "metadata": {},
     "output_type": "execute_result"
    }
   ],
   "source": [
    "SVM = GridSearchCV(LinearSVC(), {'C': [1e-4,1e-3,1e-2,0.1,1,10,100]},\n",
    "                  cv = k_folds, scoring = 'accuracy', n_jobs = -1).fit(scaler.transform(x_train),y_train)\n",
    "\n",
    "SVM.best_estimator_"
   ]
  },
  {
   "cell_type": "code",
   "execution_count": 43,
   "id": "44919f5d",
   "metadata": {},
   "outputs": [
    {
     "data": {
      "text/plain": [
       "LinearSVC(C=0.002)"
      ]
     },
     "execution_count": 43,
     "metadata": {},
     "output_type": "execute_result"
    }
   ],
   "source": [
    "SVM = GridSearchCV(LinearSVC(), {'C': np.arange(1,10)/1000},\n",
    "                  cv = k_folds, scoring = 'accuracy', n_jobs = -1).fit(scaler.transform(x_train),y_train)\n",
    "\n",
    "SVM.best_estimator_"
   ]
  },
  {
   "cell_type": "code",
   "execution_count": 46,
   "id": "cb912970",
   "metadata": {},
   "outputs": [
    {
     "data": {
      "text/plain": [
       "LinearSVC(C=0.0021)"
      ]
     },
     "execution_count": 46,
     "metadata": {},
     "output_type": "execute_result"
    }
   ],
   "source": [
    "SVM = GridSearchCV(LinearSVC(), {'C': np.arange(20,30)/10000},\n",
    "                  cv = k_folds, scoring = 'accuracy', n_jobs = -1).fit(scaler.transform(x_train),y_train)\n",
    "\n",
    "SVM.best_estimator_"
   ]
  },
  {
   "cell_type": "code",
   "execution_count": 49,
   "id": "8baf0e32",
   "metadata": {},
   "outputs": [
    {
     "data": {
      "text/plain": [
       "LinearSVC(C=0.00212)"
      ]
     },
     "execution_count": 49,
     "metadata": {},
     "output_type": "execute_result"
    }
   ],
   "source": [
    "SVM = GridSearchCV(LinearSVC(), {'C': np.arange(210,220)/100000},\n",
    "                  cv = k_folds, scoring = 'accuracy', n_jobs = -1).fit(scaler.transform(x_train),y_train)\n",
    "\n",
    "SVM.best_estimator_"
   ]
  }
 ],
 "metadata": {
  "kernelspec": {
   "display_name": "Python 3 (ipykernel)",
   "language": "python",
   "name": "python3"
  },
  "language_info": {
   "codemirror_mode": {
    "name": "ipython",
    "version": 3
   },
   "file_extension": ".py",
   "mimetype": "text/x-python",
   "name": "python",
   "nbconvert_exporter": "python",
   "pygments_lexer": "ipython3",
   "version": "3.9.7"
  }
 },
 "nbformat": 4,
 "nbformat_minor": 5
}
